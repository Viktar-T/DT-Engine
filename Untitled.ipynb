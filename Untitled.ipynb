{
 "cells": [
  {
   "cell_type": "code",
   "execution_count": 6,
   "id": "c15fc2c0-171f-4a87-b5ea-96247611e78b",
   "metadata": {},
   "outputs": [],
   "source": [
    "import pandas as pd\n",
    "import json\n",
    "\n",
    "\n",
    "def get_columns():\n",
    "    df = pd.read_parquet(r\"C:\\Users\\vtaustyka\\PycharmProjects\\DT-Engine\\data\\processed\\b_with_fuels_separate_files\\1200 obc - 2015-05.parquet_tr_f.parquet\")\n",
    "    columns = df.columns.tolist()\n",
    "    with open(r\"C:\\Users\\vtaustyka\\PycharmProjects\\DT-Engine\\data\\processed\\b_with_fuels_separate_files\\columns.json\", \"w\") as f:\n",
    "        json.dump(columns, f, indent=2)\n",
    "    return columns\n",
    "\n",
    "\n"
   ]
  },
  {
   "cell_type": "code",
   "execution_count": 2,
   "id": "b4b2f8e8-8d44-47ae-96c7-2d16c99db760",
   "metadata": {},
   "outputs": [
    {
     "ename": "ModuleNotFoundError",
     "evalue": "No module named 'src'",
     "output_type": "error",
     "traceback": [
      "\u001b[1;31m---------------------------------------------------------------------------\u001b[0m",
      "\u001b[1;31mModuleNotFoundError\u001b[0m                       Traceback (most recent call last)",
      "Cell \u001b[1;32mIn[2], line 3\u001b[0m\n\u001b[0;32m      1\u001b[0m \u001b[38;5;28;01mimport\u001b[39;00m \u001b[38;5;21;01mpandas\u001b[39;00m \u001b[38;5;28;01mas\u001b[39;00m \u001b[38;5;21;01mpd\u001b[39;00m\n\u001b[0;32m      2\u001b[0m \u001b[38;5;28;01mimport\u001b[39;00m \u001b[38;5;21;01mjson\u001b[39;00m\n\u001b[1;32m----> 3\u001b[0m \u001b[38;5;28;01mfrom\u001b[39;00m \u001b[38;5;21;01msrc\u001b[39;00m\u001b[38;5;21;01m.\u001b[39;00m\u001b[38;5;21;01mconfig\u001b[39;00m \u001b[38;5;28;01mimport\u001b[39;00m PROCESSED_DATA_WITH_FUELS_FILE_DIR\n\u001b[0;32m      5\u001b[0m \u001b[38;5;28;01mdef\u001b[39;00m \u001b[38;5;21mget_columns\u001b[39m():\n\u001b[0;32m      6\u001b[0m     df \u001b[38;5;241m=\u001b[39m pd\u001b[38;5;241m.\u001b[39mread_parquet(\u001b[38;5;124mr\u001b[39m\u001b[38;5;124m\"\u001b[39m\u001b[38;5;124mC:\u001b[39m\u001b[38;5;124m\\\u001b[39m\u001b[38;5;124mUsers\u001b[39m\u001b[38;5;124m\\\u001b[39m\u001b[38;5;124mvtaustyka\u001b[39m\u001b[38;5;124m\\\u001b[39m\u001b[38;5;124mPycharmProjects\u001b[39m\u001b[38;5;124m\\\u001b[39m\u001b[38;5;124mDT-Engine\u001b[39m\u001b[38;5;124m\\\u001b[39m\u001b[38;5;124mdata\u001b[39m\u001b[38;5;124m\\\u001b[39m\u001b[38;5;124mprocessed\u001b[39m\u001b[38;5;124m\\\u001b[39m\u001b[38;5;124mb_with_fuels_separate_files\u001b[39m\u001b[38;5;124m\\\u001b[39m\u001b[38;5;124m1200 obc - 2015-05.parquet_tr_f.parquet\u001b[39m\u001b[38;5;124m\"\u001b[39m)\n",
      "\u001b[1;31mModuleNotFoundError\u001b[0m: No module named 'src'"
     ]
    }
   ],
   "source": [
    "import pandas as pd\n",
    "import json\n",
    "from src.config import PROCESSED_DATA_WITH_FUELS_FILE_DIR\n",
    "\n",
    "def get_columns():\n",
    "    df = pd.read_parquet(r\"C:\\Users\\vtaustyka\\PycharmProjects\\DT-Engine\\data\\processed\\b_with_fuels_separate_files\\1200 obc - 2015-05.parquet_tr_f.parquet\")\n",
    "    columns = df.columns.tolist()\n",
    "    with open(r\"C:\\Users\\vtaustyka\\PycharmProjects\\DT-Engine\\data\\processed\\b_with_fuels_separate_files\\columns.json\", \"w\") as f:\n",
    "        json.dump(columns, f, indent=2)\n",
    "    return columns"
   ]
  },
  {
   "cell_type": "code",
   "execution_count": null,
   "id": "18959b65-8d82-4fb1-9675-b1e3ca478aa8",
   "metadata": {},
   "outputs": [],
   "source": []
  }
 ],
 "metadata": {
  "kernelspec": {
   "display_name": "Python 3 (ipykernel)",
   "language": "python",
   "name": "python3"
  },
  "language_info": {
   "codemirror_mode": {
    "name": "ipython",
    "version": 3
   },
   "file_extension": ".py",
   "mimetype": "text/x-python",
   "name": "python",
   "nbconvert_exporter": "python",
   "pygments_lexer": "ipython3",
   "version": "3.12.7"
  }
 },
 "nbformat": 4,
 "nbformat_minor": 5
}
