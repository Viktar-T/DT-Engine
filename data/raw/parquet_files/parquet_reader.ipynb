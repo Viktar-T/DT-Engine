{
 "cells": [
  {
   "cell_type": "code",
   "execution_count": null,
   "metadata": {},
   "outputs": [],
   "source": [
    "import pandas as pd\n",
    "\n",
    "# Read Parquet file\n",
    "file_path = \"BUMA ON 2400 - 2024-09.parquet\"\n",
    "df = pd.read_parquet(file_path)\n",
    "\n",
    "columns_to_print = ['column1', 'column2', 'column3']"
   ]
  },
  {
   "cell_type": "markdown",
   "metadata": {},
   "source": [
    "Read whole .parquet"
   ]
  },
  {
   "cell_type": "code",
   "execution_count": 3,
   "metadata": {},
   "outputs": [
    {
     "name": "stdout",
     "output_type": "stream",
     "text": [
      "   Czas [ms]  Ciś. pow. przed turb.[Pa]  Czas [ms].1  Ciś. pow. za turb.[Pa]  \\\n",
      "0       95.0                    94573.0         95.0                  2475.0   \n",
      "1      295.0                    94711.0        296.0                  2448.0   \n",
      "2      497.0                    94858.0        497.0                  2421.0   \n",
      "3      696.0                    94858.0        696.0                  2421.0   \n",
      "4      896.0                    95051.0        897.0                  2466.0   \n",
      "\n",
      "   Czas [ms].2  Ciśnienie atmosferyczne[hPa]  Czas [ms].3  \\\n",
      "0        150.0                         999.0         94.0   \n",
      "1        350.0                         999.0        295.0   \n",
      "2        550.0                         999.0        496.0   \n",
      "3        751.0                         999.0        695.0   \n",
      "4        951.0                         999.0        896.0   \n",
      "\n",
      "   Ciśnienie oleju[bar]  Czas [ms].4  Ciśnienie spalin[Pa]  ...  \\\n",
      "0                 0.006         96.0                  37.0  ...   \n",
      "1                 0.006        296.0                  47.0  ...   \n",
      "2                 0.006        497.0                 121.0  ...   \n",
      "3                 0.006        697.0                 121.0  ...   \n",
      "4                 0.006        897.0                  47.0  ...   \n",
      "\n",
      "   Zaw. zb. paliwa 2/3[-]  Czas [ms].67  Zaw. zb. paliwa 3/3[-]  Czas [ms].68  \\\n",
      "0                     0.0          50.0                     0.0         645.0   \n",
      "1                     0.0         650.0                     0.0         673.0   \n",
      "2                     0.0        1452.0                     0.0        1647.0   \n",
      "3                     0.0        1652.0                     0.0        1674.0   \n",
      "4                     0.0        2654.0                     0.0        2649.0   \n",
      "\n",
      "   Zawór reg. chł. cieczy[-]  Czas [ms].69  Zużycie paliwa bieżące[g/s]  \\\n",
      "0                        0.0          68.0                         0.05   \n",
      "1                        0.0         268.0                         0.05   \n",
      "2                        0.0         468.0                         0.05   \n",
      "3                        0.0         668.0                         0.05   \n",
      "4                        0.0         869.0                         0.03   \n",
      "\n",
      "   Czas [ms].70  Zużycie paliwa średnie[g/s]  Unnamed: 142  \n",
      "0          67.0                          0.0           NaN  \n",
      "1         268.0                          0.0           NaN  \n",
      "2         468.0                          0.0           NaN  \n",
      "3         668.0                          0.0           NaN  \n",
      "4         869.0                          0.0           NaN  \n",
      "\n",
      "[5 rows x 143 columns]\n"
     ]
    }
   ],
   "source": [
    "print(df.head())  # Default: first 5 rows\n"
   ]
  },
  {
   "cell_type": "code",
   "execution_count": 4,
   "metadata": {},
   "outputs": [
    {
     "name": "stdout",
     "output_type": "stream",
     "text": [
      "       Czas [ms]  Ciś. pow. przed turb.[Pa]  Czas [ms].1  \\\n",
      "33235        NaN                        NaN          NaN   \n",
      "33236        NaN                        NaN          NaN   \n",
      "33237        NaN                        NaN          NaN   \n",
      "33238        NaN                        NaN          NaN   \n",
      "33239        NaN                        NaN          NaN   \n",
      "\n",
      "       Ciś. pow. za turb.[Pa]  Czas [ms].2  Ciśnienie atmosferyczne[hPa]  \\\n",
      "33235                     NaN          NaN                           NaN   \n",
      "33236                     NaN          NaN                           NaN   \n",
      "33237                     NaN          NaN                           NaN   \n",
      "33238                     NaN          NaN                           NaN   \n",
      "33239                     NaN          NaN                           NaN   \n",
      "\n",
      "       Czas [ms].3  Ciśnienie oleju[bar]  Czas [ms].4  Ciśnienie spalin[Pa]  \\\n",
      "33235          NaN                   NaN          NaN                   NaN   \n",
      "33236          NaN                   NaN          NaN                   NaN   \n",
      "33237          NaN                   NaN          NaN                   NaN   \n",
      "33238          NaN                   NaN          NaN                   NaN   \n",
      "33239          NaN                   NaN          NaN                   NaN   \n",
      "\n",
      "       ...  Zaw. zb. paliwa 2/3[-]  Czas [ms].67  Zaw. zb. paliwa 3/3[-]  \\\n",
      "33235  ...                     NaN           NaN                     NaN   \n",
      "33236  ...                     NaN           NaN                     NaN   \n",
      "33237  ...                     NaN           NaN                     NaN   \n",
      "33238  ...                     NaN           NaN                     NaN   \n",
      "33239  ...                     NaN           NaN                     NaN   \n",
      "\n",
      "       Czas [ms].68  Zawór reg. chł. cieczy[-]  Czas [ms].69  \\\n",
      "33235           NaN                        NaN           NaN   \n",
      "33236           NaN                        NaN           NaN   \n",
      "33237           NaN                        NaN           NaN   \n",
      "33238           NaN                        NaN           NaN   \n",
      "33239           NaN                        NaN           NaN   \n",
      "\n",
      "       Zużycie paliwa bieżące[g/s]  Czas [ms].70  Zużycie paliwa średnie[g/s]  \\\n",
      "33235                          NaN           NaN                          NaN   \n",
      "33236                          NaN           NaN                          NaN   \n",
      "33237                          NaN           NaN                          NaN   \n",
      "33238                          NaN           NaN                          NaN   \n",
      "33239                          NaN           NaN                          NaN   \n",
      "\n",
      "       Unnamed: 142  \n",
      "33235           NaN  \n",
      "33236           NaN  \n",
      "33237           NaN  \n",
      "33238           NaN  \n",
      "33239           NaN  \n",
      "\n",
      "[5 rows x 143 columns]\n"
     ]
    }
   ],
   "source": [
    "print(df.tail())  # Default: last 5 rows\n"
   ]
  }
 ],
 "metadata": {
  "kernelspec": {
   "display_name": "DT-Engine-env",
   "language": "python",
   "name": "python3"
  },
  "language_info": {
   "codemirror_mode": {
    "name": "ipython",
    "version": 3
   },
   "file_extension": ".py",
   "mimetype": "text/x-python",
   "name": "python",
   "nbconvert_exporter": "python",
   "pygments_lexer": "ipython3",
   "version": "3.12.7"
  }
 },
 "nbformat": 4,
 "nbformat_minor": 2
}
