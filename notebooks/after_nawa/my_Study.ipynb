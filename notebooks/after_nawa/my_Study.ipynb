{
 "cells": [
  {
   "cell_type": "code",
   "execution_count": null,
   "id": "ba1e201f-6c1d-4db9-964a-9a4016b374d3",
   "metadata": {},
   "outputs": [],
   "source": [
    "import numpy as np\n",
    "import pandas as pd\n",
    "import itertools\n",
    "import json\n",
    "import pickle"
   ]
  },
  {
   "cell_type": "code",
   "execution_count": null,
   "id": "e430200b-7912-47ec-a56f-fff0c6f4699d",
   "metadata": {},
   "outputs": [],
   "source": [
    "df_t2 = pd.DataFrame(np.zeros(5), columns = ['df_t2'])\n",
    "df_t3 = pd.DataFrame(np.ones(8))\n",
    "df_t2.insert(1, 'df_t3', df_t3.iloc[:3, 0])\n",
    "df_t2.insert(2, 'pd.Series', pd.Series(np.ones(3)*10))\n",
    "# df_ia3.insert(len(df_ia3.columns), 'GG4', df_ia2.iloc[:, 0])\n",
    "df_t2"
   ]
  },
  {
   "cell_type": "code",
   "execution_count": null,
   "id": "d9a17292-cf09-4fd9-98d4-2da535b54915",
   "metadata": {},
   "outputs": [],
   "source": [
    "dictionary_data = {\"a\": 1, \"b\": 2}\n",
    "\n",
    "a_file = open(\"data.json\", \"w\")\n",
    "json.dump(dictionary_data, a_file)\n",
    "a_file.close()\n",
    "\n",
    "a_file = open(\"data.json\", \"r\")\n",
    "output = a_file.read()\n",
    "print(output)\n",
    "OUTPUT\n",
    "{\"a\": 1, \"b\": 2}\n",
    "a_file.close()"
   ]
  },
  {
   "cell_type": "code",
   "execution_count": null,
   "id": "fd956027-244d-4b76-b8db-791afef29477",
   "metadata": {},
   "outputs": [],
   "source": [
    "a = 5\n",
    "df_t2.to_csv(f'{a}_df_t2.csv')"
   ]
  },
  {
   "cell_type": "code",
   "execution_count": null,
   "id": "c891f337-6ba0-47e6-9ace-b466e1da0771",
   "metadata": {},
   "outputs": [],
   "source": [
    "aa = list(df_t2.columns).index('pd.Series')\n",
    "aa"
   ]
  },
  {
   "cell_type": "code",
   "execution_count": null,
   "id": "d6cacb08-ca85-44c5-965b-2d6c2e1a86b7",
   "metadata": {},
   "outputs": [],
   "source": [
    "b = []\n",
    "b.append(list(['dasf', 'sadgfsfg']))\n",
    "b.append(list(['DFG', 'JKGH']))\n",
    "b"
   ]
  },
  {
   "cell_type": "code",
   "execution_count": null,
   "id": "c7ee79ea-b8ae-4c9b-8da3-8b8225147228",
   "metadata": {},
   "outputs": [],
   "source": [
    "df_np = pd.DataFrame(np.arange(16).reshape((4, 4)))\n",
    "df_np"
   ]
  },
  {
   "cell_type": "code",
   "execution_count": null,
   "id": "f959e782-3542-4f55-a523-d121db47f9ae",
   "metadata": {},
   "outputs": [],
   "source": [
    "list(df_np.columns)\n",
    "a = list(df_np.columns).index(1)\n",
    "a"
   ]
  },
  {
   "cell_type": "code",
   "execution_count": null,
   "id": "d8b2c9a9-d41c-4aa1-a4c6-74f6ab85ab98",
   "metadata": {},
   "outputs": [],
   "source": [
    "a, b = [1, 2, 3], [10, 20, 30]\n",
    "for i, j in zip(a, b):\n",
    "    print(i, j)"
   ]
  },
  {
   "cell_type": "code",
   "execution_count": null,
   "id": "176f2ae9-ebdf-4fc6-8760-daad3a9708bb",
   "metadata": {},
   "outputs": [],
   "source": [
    "nc = 10\n",
    "nr = int(np.ceil(len(n_columns.index) / 10))\n",
    "\n",
    "col_gen = (s for s in itertools.cycle(('index in df', 'Parameters')))\n",
    "counter = 0\n",
    "columns = []\n",
    "for s in col_gen:\n",
    "    if counter > nc - 1:\n",
    "        break\n",
    "    else:        \n",
    "        columns.append(s + f'_{str(counter)}')\n",
    "        counter += 1\n",
    "columns\n",
    "\n",
    "df_np2 = pd.DataFrame(np.zeros([nr, nc]), index=[i for i in range(nr)], columns=columns)\n",
    "df_np2"
   ]
  },
  {
   "cell_type": "code",
   "execution_count": null,
   "id": "6816c8c6-1584-4976-b0bd-56c5ed697156",
   "metadata": {},
   "outputs": [],
   "source": [
    "df_np2['index in df_0'] = np.arange(nr)*10\n",
    "df_np2"
   ]
  },
  {
   "cell_type": "code",
   "execution_count": null,
   "id": "85401732-fa64-4afa-acf9-88f4045651e9",
   "metadata": {},
   "outputs": [],
   "source": [
    "df_test1 = pd.DataFrame(np.arange(16).reshape((4, 4)), index=list('abcd'), columns=list('ABCD'))\n",
    "df_test1"
   ]
  },
  {
   "cell_type": "code",
   "execution_count": null,
   "id": "6e98b6f0-0992-473d-bbeb-fb38c7bd0de1",
   "metadata": {},
   "outputs": [],
   "source": [
    "df_test1['key'] = 50\n",
    "df_test1.loc[['b', 'c'], 'key1'] = 500\n",
    "df_test1.loc[['d'], 'key1'] = 999\n",
    "df_test1"
   ]
  },
  {
   "cell_type": "code",
   "execution_count": null,
   "id": "0f6034e7-ccb3-41a2-8f13-b07e93095397",
   "metadata": {},
   "outputs": [],
   "source": [
    "print(df_test1['B'])\n",
    "print(df_test1.loc[:, 'B'])\n",
    "print(df_test1.iloc[:, 1])\n",
    "print()\n",
    "print(df_test1.iloc[[1, 2], [1, 2]])\n",
    "print(df_test1.loc[['b', 'c'], ['B', 'C']])\n",
    "print(df_test1.iloc[1:4, [1, 2]])\n",
    "print()\n",
    "print(df_test1.loc['b', 'B'])\n",
    "print(df_test1.iloc[1, 1])\n",
    "print(df_test1.iloc[1][1])\n",
    "print(df_test1['B']['b'])\n",
    "print()\n",
    "print(df_test1.loc['b'])\n",
    "print(df_test1.iloc[1])\n",
    "print()\n",
    "print()"
   ]
  },
  {
   "cell_type": "code",
   "execution_count": null,
   "id": "d01c0a85-eeed-4e5b-a4b8-14f9b116f670",
   "metadata": {},
   "outputs": [],
   "source": [
    "# insert() row, append() column\n",
    "df_ia1 = pd.DataFrame([[1, 2], [3, 4]], columns=list('AB'), index=['x', 'y'])\n",
    "df_ia2 = pd.DataFrame([[5, 6], [7, 8]], columns=list('AB'), index=list('xy'))\n",
    "df_ia3 = pd.DataFrame([[10, 20], [30, 40], [50, 60]], columns=list('AB'), index=list('xyz'))\n",
    "df_ia4 = pd.DataFrame([[50, 60], [70, 80]], columns=list('BC'), index=list('xy'))\n",
    "print(df_ia1)\n",
    "print()\n",
    "print(df_ia2)\n",
    "print()\n",
    "print(df_ia3)\n",
    "print()\n",
    "print(df_ia4)"
   ]
  },
  {
   "cell_type": "code",
   "execution_count": null,
   "id": "65b62b79-f05f-4e8b-bb3f-ca5213025047",
   "metadata": {},
   "outputs": [],
   "source": [
    "print(df_ia1.append(df_ia2))\n",
    "print(df_ia1.append(df_ia3))\n",
    "print(df_ia1.append(df_ia3, ignore_index=True))\n",
    "print(df_ia1.append(df_ia4))\n",
    "df_ai12 = df_ia1.append(df_ia2)\n",
    "print(df_ai12)"
   ]
  },
  {
   "cell_type": "code",
   "execution_count": null,
   "id": "f2f6998f-fadb-4780-9510-9a208ac46515",
   "metadata": {},
   "outputs": [],
   "source": [
    "df_ia1.insert(1, 'AA', [11, 22])\n",
    "print(df_ia1)"
   ]
  },
  {
   "cell_type": "code",
   "execution_count": null,
   "id": "5495b206-1683-40ba-9af9-88a36e14df67",
   "metadata": {},
   "outputs": [],
   "source": [
    "df_ia1"
   ]
  },
  {
   "cell_type": "code",
   "execution_count": null,
   "id": "b4d7c14f-7215-4b61-bcfb-1ae9826d7772",
   "metadata": {},
   "outputs": [],
   "source": [
    "df_ia1.insert(3, 'BB', [11, 22])\n",
    "print(df_ia1)"
   ]
  },
  {
   "cell_type": "code",
   "execution_count": null,
   "id": "c5f7be95-d52f-4472-9d6e-6031c9dfda0f",
   "metadata": {},
   "outputs": [],
   "source": [
    "df_ia1.insert(3, 'CC', df_ia2.iloc[:, 0])\n",
    "print(df_ia1)"
   ]
  },
  {
   "cell_type": "code",
   "execution_count": null,
   "id": "1dcc3458-ab6e-40ec-8c0e-e7f342737224",
   "metadata": {},
   "outputs": [],
   "source": [
    "df_ia1.insert(5, 'DD', df_ia2.iloc[:, 1])\n",
    "print(df_ia1)"
   ]
  },
  {
   "cell_type": "code",
   "execution_count": null,
   "id": "22991caa-eefe-4ca2-bdf4-201b485aa16d",
   "metadata": {},
   "outputs": [],
   "source": [
    "df_ia1.insert(len(df_ia1.columns), 'EE', df_ia2.iloc[:, 0])\n",
    "print(df_ia1)"
   ]
  },
  {
   "cell_type": "code",
   "execution_count": null,
   "id": "9aa30944-defd-4877-b44b-00e103891c81",
   "metadata": {},
   "outputs": [],
   "source": [
    "df_ia1.insert(len(df_ia1.columns), 'FF', df_ia3.iloc[:, 0])\n",
    "print(df_ia1)"
   ]
  },
  {
   "cell_type": "code",
   "execution_count": null,
   "id": "7f3e97f1-4f4f-4c19-ba7d-7edf13a7eb53",
   "metadata": {},
   "outputs": [],
   "source": [
    "df_ia3.insert(len(df_ia3.columns), 'GG3', df_ia2.iloc[:, 0])\n",
    "print(df_ia3)"
   ]
  },
  {
   "cell_type": "code",
   "execution_count": null,
   "id": "11772b30-e019-4192-aced-fd5f0a01e4a3",
   "metadata": {},
   "outputs": [],
   "source": [
    "list(df_ia2.iloc[:, 0])"
   ]
  },
  {
   "cell_type": "code",
   "execution_count": null,
   "id": "e4724ba6-1118-4cbc-aa3c-cf59b5238911",
   "metadata": {},
   "outputs": [],
   "source": [
    "df_ia2.iloc[:, 0]"
   ]
  },
  {
   "cell_type": "code",
   "execution_count": null,
   "id": "c41743ae-3787-4259-9d30-6eecb7a44813",
   "metadata": {},
   "outputs": [],
   "source": [
    "df1 = pd.DataFrame(\n",
    "    {\n",
    "        \"key\": [10, 20, 30, 40],\n",
    "        \"A1\": [\"A0\", \"A1\", \"A2\", \"A3\"],\n",
    "        \"B1\": [\"B0\", \"B1\", \"B2\", \"B3\"],\n",
    "        \"C1\": [\"C0\", \"C1\", \"C2\", \"C3\"],\n",
    "        \"D1\": [\"D0\", \"D1\", \"D2\", \"D3\"],\n",
    "    },\n",
    "    index=[10, 20, 30, 40],\n",
    ")\n",
    "\n",
    "\n",
    "df2 = pd.DataFrame(\n",
    "    {\n",
    "        \"key\": [10, 14, 18, 22],\n",
    "        \"A2\": [\"A4\", \"A5\", \"A6\", \"A7\"],\n",
    "        \"B2\": [\"B4\", \"B5\", \"B6\", \"B7\"],\n",
    "        \"C2\": [\"C4\", \"C5\", \"C6\", \"C7\"],\n",
    "        \"D2\": [\"D4\", \"D5\", \"D6\", \"D7\"],\n",
    "    },\n",
    "    index=[10, 14, 18, 22],\n",
    ")\n",
    "\n",
    "\n",
    "df3 = pd.DataFrame(\n",
    "    {\n",
    "        \"key\": [19, 21, 23, 25],\n",
    "        \"A3\": [\"A8\", \"A9\", \"A10\", \"A11\"],\n",
    "        \"B3\": [\"B8\", \"B9\", \"B10\", \"B11\"],\n",
    "        \"C3\": [\"C8\", \"C9\", \"C10\", \"C11\"],\n",
    "        \"D3\": [\"D8\", \"D9\", \"D10\", \"D11\"],\n",
    "    },\n",
    "    index=[19, 21, 23, 25],\n",
    ")\n",
    "\n",
    "df4 = pd.DataFrame(\n",
    "    {\n",
    "        \"key_4\": ['A1', 'A1', 'A2', 'A2', 'A', 'B', 'B', np.nan, np.nan, 'B'],\n",
    "        \"val\": [\"A4\", \"A5\", \"A6\", \"A7\", 'A8', \"A4\", \"A5\", \"A6\", \"A7\", 'A8'],\n",
    "        \"B2\": [\"B4\", \"B5\", \"B6\", \"B7\", 'B8', \"B4\", \"B5\", \"B6\", \"B7\", 'B8'],\n",
    "        \"C2\": [\"C4\", \"C5\", \"C6\", \"C7\", 'C8', \"C4\", \"C5\", \"C6\", \"C7\", 'C8'],\n",
    "        \"D2\": [\"D4\", \"D5\", \"D6\", \"D7\", 'D8', \"D4\", \"D5\", \"D6\", \"D7\", 'D8'],\n",
    "    },\n",
    "    index=[10, 14, 18, 22, 26, 30, 34, 38, 42, 46],\n",
    ")\n",
    "\n",
    "\n",
    "df40 = pd.DataFrame(\n",
    "    {\n",
    "        \"key_40\": ['A1', 'A1', 'A20', 'A20', 'A', 'B', 'B', np.nan, np.nan, 'B'],\n",
    "        \"val\": [\"A40\", \"A50\", \"A60\", \"A70\", 'A80', \"A40\", \"A50\", \"A60\", \"A70\", 'A80'],\n",
    "        \"B20\": [\"B40\", \"B50\", \"B60\", \"B70\", 'B80', \"B40\", \"B50\", \"B60\", \"B70\", 'B80'],\n",
    "        \"C20\": [\"C40\", \"C50\", \"C60\", \"C70\", 'C80', \"C40\", \"C50\", \"C60\", \"C70\", 'C80'],\n",
    "        \"D20\": [\"D40\", \"D50\", \"D60\", \"D70\", 'D80', \"D40\", \"D50\", \"D60\", \"D70\", 'D80'],\n",
    "    },\n",
    "    index=[10, 14, 18, 22, 26, 30, 34, 38, 42, 46],\n",
    ")\n",
    "\n",
    "\n",
    "frames = [df1, df2, df3]\n",
    "for df in frames:\n",
    "    df.index.name = 'czas'\n",
    "\n",
    "# concat()\n",
    "result_concat = pd.concat(frames, axis=1)   #  1st way - use concat()\n",
    "\n",
    "# join()\n",
    "\n",
    "\n",
    "# merge()\n",
    "result_merge2 = pd.merge(df1, df2, on='key', how='outer')        # 2nd way - use merge()\n",
    "result_merge3 = pd.merge(result_merge2, df3, on='key', sort=True, how='outer')\n",
    "#result_merge44 = pd.merge(df4, df40, on=\"key_4\", sort=True, how='outer')\n",
    "result_merge44_2 = pd.merge(df4, df40, left_on=\"key_4\", right_on=\"key_40\", sort=True, how='outer')\n",
    "#result_merge44_validate = pd.merge(df4, df40, on='key_4', sort=True, how='outer', validate=\"one_to_one\") # validate=\"one_to_one\"\n",
    "#result_merge44_2 = pd.merge(df4, df40, on=['key_4', 'val'], sort=True, how='outer')\n",
    "\n",
    "# Series\n",
    "s1 = pd.Series(df1.iloc[:, 1].values, df1.iloc[:, 0].values)\n",
    "s2 = pd.Series(df2.iloc[:, 1].values, df2.iloc[:, 0].values)\n",
    "result_concat_s = pd.concat([s1, s2], axis=1)"
   ]
  },
  {
   "cell_type": "code",
   "execution_count": null,
   "id": "c69054ba-4d63-4932-8eb9-56bd2d6ce0b7",
   "metadata": {},
   "outputs": [],
   "source": [
    "s1"
   ]
  },
  {
   "cell_type": "code",
   "execution_count": null,
   "id": "0dfd7873-ecfd-4308-b333-77b4beee6c66",
   "metadata": {},
   "outputs": [],
   "source": [
    "s2"
   ]
  },
  {
   "cell_type": "code",
   "execution_count": null,
   "id": "10c55584-72f5-43ea-9d52-fcbb72fe0aa9",
   "metadata": {},
   "outputs": [],
   "source": [
    "df1"
   ]
  },
  {
   "cell_type": "code",
   "execution_count": null,
   "id": "e6a447ef-c458-4e4a-a6c8-b86a656c1ccc",
   "metadata": {},
   "outputs": [],
   "source": [
    "df2"
   ]
  },
  {
   "cell_type": "code",
   "execution_count": null,
   "id": "9fc80dc3-d93d-4873-b698-4d8d7b326bb8",
   "metadata": {},
   "outputs": [],
   "source": [
    "df3"
   ]
  },
  {
   "cell_type": "code",
   "execution_count": null,
   "id": "c43cb739-c46a-45c8-81e3-064eb69fab34",
   "metadata": {},
   "outputs": [],
   "source": [
    "df4"
   ]
  },
  {
   "cell_type": "code",
   "execution_count": null,
   "id": "225a309d-bc75-460c-8203-589bba4df712",
   "metadata": {},
   "outputs": [],
   "source": [
    "df40"
   ]
  },
  {
   "cell_type": "code",
   "execution_count": null,
   "id": "6b2334b0-0053-43fd-9f91-1333a8609cdf",
   "metadata": {},
   "outputs": [],
   "source": [
    "result_concat"
   ]
  },
  {
   "cell_type": "code",
   "execution_count": null,
   "id": "c09f8686-701f-4882-b822-fbe48c39c6c6",
   "metadata": {},
   "outputs": [],
   "source": [
    "result_merge3"
   ]
  },
  {
   "cell_type": "code",
   "execution_count": null,
   "id": "8680e950-e522-471a-bede-3a8d92781193",
   "metadata": {},
   "outputs": [],
   "source": [
    "result_concat_s"
   ]
  },
  {
   "cell_type": "code",
   "execution_count": null,
   "id": "e398215c-f702-466d-987b-71d5a3b3865e",
   "metadata": {},
   "outputs": [],
   "source": [
    "result_merge44"
   ]
  },
  {
   "cell_type": "code",
   "execution_count": null,
   "id": "da169270-7c41-4a96-af24-b1cab0b7504b",
   "metadata": {},
   "outputs": [],
   "source": [
    "result_merge44_2"
   ]
  },
  {
   "cell_type": "code",
   "execution_count": null,
   "id": "1259e460-be2a-4a52-b102-6989a5f2baeb",
   "metadata": {},
   "outputs": [],
   "source": [
    "df1 = pd.DataFrame(\n",
    "    {\n",
    "        \"key\": [10, 10, 30, 40],\n",
    "        \"A1\": [\"A0\", \"A1\", \"A2\", \"A3\"],\n",
    "        \"B1\": [\"B0\", \"B1\", \"B2\", \"B3\"],\n",
    "        \"C1\": [\"C0\", \"C1\", \"C2\", \"C3\"],\n",
    "        \"D1\": [\"D0\", \"D1\", \"D2\", \"D3\"],\n",
    "    },\n",
    "    index=[10, 20, 30, 40],\n",
    ")\n",
    "df1"
   ]
  },
  {
   "cell_type": "code",
   "execution_count": null,
   "id": "56028667-c0f6-4997-a90a-2acb0e211cc6",
   "metadata": {},
   "outputs": [],
   "source": [
    "df1.get_loc['C1']"
   ]
  },
  {
   "cell_type": "code",
   "execution_count": null,
   "id": "f21d1358-33ef-4646-902d-bc08271f81b6",
   "metadata": {},
   "outputs": [],
   "source": [
    "df1.loc[[20, 40], ['C1']]"
   ]
  },
  {
   "cell_type": "code",
   "execution_count": null,
   "id": "b4640a47-a0a2-4da5-a43a-a7f46af97d5c",
   "metadata": {},
   "outputs": [],
   "source": [
    "df1 = df1.drop_duplicates([df1.columns[0]])\n",
    "df1"
   ]
  },
  {
   "cell_type": "code",
   "execution_count": null,
   "id": "cc14f0b6-e82f-42e8-99bc-9e78674d9618",
   "metadata": {},
   "outputs": [],
   "source": [
    "dict_figures = {}\n",
    "dict_figures = {'name1': 'fig1'}\n",
    "dict_figures['name2'] = 'fig2'\n",
    "dict_figures"
   ]
  },
  {
   "cell_type": "code",
   "execution_count": null,
   "id": "df5ad641-dc07-40db-b74d-714c698a38f5",
   "metadata": {},
   "outputs": [],
   "source": [
    "df1"
   ]
  },
  {
   "cell_type": "code",
   "execution_count": null,
   "id": "d66762f9-e611-421b-8e84-155b1c5fccc1",
   "metadata": {},
   "outputs": [],
   "source": [
    "df3 = pd.DataFrame({'key1' : ['a', 'a', 'b', 'b', 'a'],\n",
    "                   'key2' : ['one', 'two', 'one', 'two', 'one'],\n",
    "                   'data1' : np.random.randn(5),\n",
    "                   'data2' : np.random.randn(5)})\n",
    "df3"
   ]
  },
  {
   "cell_type": "code",
   "execution_count": null,
   "id": "7a421aea-48e8-4ef5-a625-97ac54389e2c",
   "metadata": {},
   "outputs": [],
   "source": [
    "grouped = df3.groupby('key1')\n",
    "grouped"
   ]
  },
  {
   "cell_type": "code",
   "execution_count": null,
   "id": "a4ed5bb8-7e31-4646-8e8b-eac6ef3caec5",
   "metadata": {},
   "outputs": [],
   "source": [
    "d_grouped = dict(list(grouped))\n",
    "type(d_grouped['a'])"
   ]
  },
  {
   "cell_type": "code",
   "execution_count": null,
   "id": "d0830813-a972-4cc4-bf33-fbea661cc483",
   "metadata": {},
   "outputs": [],
   "source": [
    "d_grouped['a']['data1']"
   ]
  },
  {
   "cell_type": "code",
   "execution_count": null,
   "id": "3a5c22ff-69b6-4cda-a494-4a742ece5fa5",
   "metadata": {},
   "outputs": [],
   "source": [
    "indices = []\n",
    "#indices.append(*list(df.index))\n",
    "#indices.append(*list(df1.index))\n",
    "indices += list(df1.index)\n",
    "indices += list(df.index)\n",
    "indices"
   ]
  },
  {
   "cell_type": "code",
   "execution_count": null,
   "id": "60e9b967-053d-4911-a93f-a6c30d09654e",
   "metadata": {},
   "outputs": [],
   "source": [
    "dic1 = {'key1' : ['a', 'a', 'b', 'b', 'a'],\n",
    "                   'key2' : ['one', 'two', 'one', 'two', 'one'],\n",
    "                   'data1' : np.random.randn(5),\n",
    "                   'data2' : np.random.randn(5)}\n",
    "dic1.keys()"
   ]
  },
  {
   "cell_type": "code",
   "execution_count": null,
   "id": "5352a31f-e518-42c3-b69e-c8ce3edbe989",
   "metadata": {},
   "outputs": [],
   "source": [
    "for x in dic1.keys():\n",
    "    print(x)"
   ]
  },
  {
   "cell_type": "code",
   "execution_count": null,
   "id": "30d76544-b4a4-4af4-bec4-22a5826f0f7b",
   "metadata": {},
   "outputs": [],
   "source": [
    "a = 2\n",
    "print(list(df1.index[:2]) + list(df1.index[-a:]))"
   ]
  },
  {
   "cell_type": "code",
   "execution_count": null,
   "id": "79fe0cb2-9d81-430b-9d54-7ad4e79e6aff",
   "metadata": {},
   "outputs": [],
   "source": [
    "a = 2\n",
    "print(f'dfa - {a*200} sdafds')"
   ]
  },
  {
   "cell_type": "code",
   "execution_count": null,
   "id": "6dd37c3d-9ac1-424f-9962-5eca6eaee850",
   "metadata": {},
   "outputs": [],
   "source": [
    "dic_2 = {\n",
    "        \"key\": [10, 10, 30, 40],\n",
    "        \"A1\": [\"A0\", \"A1\", \"A2\", \"A3\"],\n",
    "        \"B1\": [\"B0\", \"B1\", \"B2\", \"B3\"],\n",
    "        \"C1\": [\"C0\", \"C1\", \"C2\", \"C3\"],\n",
    "        \"D1\": [\"D0\", \"D1\", \"D2\", \"D3\"],\n",
    "    }\n",
    "dic_2"
   ]
  },
  {
   "cell_type": "code",
   "execution_count": null,
   "id": "5914ff14-ac01-47e1-800c-fbd5651ba448",
   "metadata": {},
   "outputs": [],
   "source": [
    "print(*[f'{key} - {val}' for key, val in dic_2.items()], sep='\\n')"
   ]
  },
  {
   "cell_type": "code",
   "execution_count": null,
   "id": "035ee589-7ce6-403c-a7f2-34de456fb280",
   "metadata": {},
   "outputs": [],
   "source": [
    "df22 = pd.DataFrame({\n",
    "    \"key\": [1, 2, 3, 4],\n",
    "    \"A1\": [10, 20, 30, 40],\n",
    "    \"B1\": [100, 200, 300, 400]\n",
    "                     })\n",
    "df22"
   ]
  },
  {
   "cell_type": "code",
   "execution_count": null,
   "id": "9a187704-6f00-46b3-aea9-29818e6e4ff8",
   "metadata": {},
   "outputs": [],
   "source": [
    "a_file = open(\"data.pkl\", \"wb\")\n",
    "pickle.dump(dic_2, a_file)\n",
    "a_file.close()\n",
    "\n",
    "a_file = open(\"data.pkl\", \"rb\")\n",
    "output = pickle.load(a_file)\n",
    "print(*[f'{key} - {val}' for key, val in output.items()], sep='\\n')\n",
    "a_file.close()"
   ]
  },
  {
   "cell_type": "code",
   "execution_count": null,
   "id": "199178bc-1300-482d-ace3-9cac66a5e6b3",
   "metadata": {},
   "outputs": [],
   "source": [
    "a_file = open(f\"res_class_Models\\dict_model_params_test_15.09.2022_3.pkl\", \"rb\")\n",
    "output = pickle.load(a_file)\n",
    "print(*[f'{key} - {val}' for key, val in output.items()], sep='\\n')"
   ]
  },
  {
   "cell_type": "code",
   "execution_count": null,
   "id": "f1d2eff3-91b2-4a59-a146-ba372d278a6b",
   "metadata": {},
   "outputs": [],
   "source": [
    "type(output)"
   ]
  },
  {
   "cell_type": "code",
   "execution_count": null,
   "id": "9f4fc2e9-2a96-4b1b-80da-907ad81710b3",
   "metadata": {},
   "outputs": [],
   "source": [
    "pd.get_loc(df22[df22['B1'] == 200])"
   ]
  },
  {
   "cell_type": "code",
   "execution_count": null,
   "id": "b52e64b7-f101-4498-a032-4f244b855513",
   "metadata": {},
   "outputs": [],
   "source": [
    "df22.loc[:, 'C1'] = (df22.loc[:, 'key'] + df22.loc[:, 'A1'] + df22.loc[:, 'B1']) / len(df22.columns)\n",
    "df22"
   ]
  },
  {
   "cell_type": "code",
   "execution_count": null,
   "id": "6757e7db-1b77-40e8-b539-09bf70d360dc",
   "metadata": {},
   "outputs": [],
   "source": [
    "list(df22[df22['key'] == 2].index)"
   ]
  },
  {
   "cell_type": "code",
   "execution_count": null,
   "id": "9fcee181-1315-43de-9fcf-7fbc68e2f6b2",
   "metadata": {},
   "outputs": [],
   "source": [
    "df22.loc[[3], ['d1', 'f1']] = df22.loc[[2], ['B1', 'C1']].values\n",
    "df22"
   ]
  },
  {
   "cell_type": "code",
   "execution_count": null,
   "id": "7f432bf3-bebb-4e2c-9ce4-470f0facd636",
   "metadata": {},
   "outputs": [],
   "source": [
    "aaa = df22.loc[[2], ['B1', 'C1']]\n",
    "aaa.values"
   ]
  },
  {
   "cell_type": "code",
   "execution_count": null,
   "id": "2d7e3531-a98b-4210-bb0a-4ea52f9c4f7b",
   "metadata": {},
   "outputs": [],
   "source": [
    "df22.loc[:, 'D1'] = np.nan\n",
    "df22"
   ]
  },
  {
   "cell_type": "code",
   "execution_count": null,
   "id": "70ea13f6-fa10-45cf-bd8b-bd9cf08945a1",
   "metadata": {},
   "outputs": [],
   "source": [
    "df22.loc[:, 'D1'] = (df22.loc[:, 'key'] + df22.loc[:, 'A1'] + df22.loc[:, 'B1']) / len(df22.columns)\n",
    "df22"
   ]
  },
  {
   "cell_type": "code",
   "execution_count": null,
   "id": "f35970f6-0ffe-4b96-a47d-8db23e7525b5",
   "metadata": {},
   "outputs": [],
   "source": [
    "df22.loc[:, 'D1'] = 11\n",
    "list(df22.index)"
   ]
  },
  {
   "cell_type": "code",
   "execution_count": null,
   "id": "e60f7d42-7f69-48de-9df4-d3e0079ade71",
   "metadata": {},
   "outputs": [],
   "source": [
    "a = np.nan\n",
    "b = 5\n",
    "a + b"
   ]
  },
  {
   "cell_type": "code",
   "execution_count": null,
   "id": "cefc992a-748c-44df-a47d-9f0bf3564059",
   "metadata": {},
   "outputs": [],
   "source": [
    "np.random.seed(1)\n",
    "print(np.random.uniform(3.28, 3.43), np.random.uniform(6.28, 6.43))"
   ]
  },
  {
   "cell_type": "code",
   "execution_count": null,
   "id": "64293f66-5deb-435d-bd41-d67a7a4aa544",
   "metadata": {},
   "outputs": [],
   "source": [
    "df33 = pd.DataFrame(columns = ['A', 'B'], index=[1, 2, 3])\n",
    "df33"
   ]
  },
  {
   "cell_type": "code",
   "execution_count": null,
   "id": "b9fae2d9-3f02-478a-9814-4564c0c16427",
   "metadata": {},
   "outputs": [],
   "source": [
    "df33.loc[:, 'B'] = 100 \\\n",
    "                + df22.loc[:, 'key'] \\\n",
    "                    * 10 \\\n",
    "        + 1\n",
    "df33"
   ]
  },
  {
   "cell_type": "code",
   "execution_count": null,
   "id": "a19e9602-f419-4d94-bd33-cac44af34800",
   "metadata": {},
   "outputs": [],
   "source": [
    "df33[df33['B'] <= 125] = 20\n",
    "df33[df33.loc[:, 'B'] >= 135] = 30\n",
    "df33"
   ]
  },
  {
   "cell_type": "code",
   "execution_count": null,
   "id": "c0f578c6-83d0-4ddd-8137-1c291e8e0402",
   "metadata": {},
   "outputs": [],
   "source": [
    "pow(2, 3)"
   ]
  },
  {
   "cell_type": "code",
   "execution_count": null,
   "id": "4cf971a8-9cc7-497c-94a4-eb914335cef0",
   "metadata": {},
   "outputs": [],
   "source": [
    "df33[df33['B'] <= 125] = 20\n",
    "df33"
   ]
  },
  {
   "cell_type": "code",
   "execution_count": null,
   "id": "b02fee26-b728-483f-a976-5151beb6ca98",
   "metadata": {},
   "outputs": [],
   "source": [
    "df33['B'].replace([131, 141], [1310, 30], inplace=True)\n",
    "df33"
   ]
  },
  {
   "cell_type": "code",
   "execution_count": null,
   "id": "bedae8c4-c669-491c-94df-1d6fa1a6d270",
   "metadata": {},
   "outputs": [],
   "source": [
    "df33['B'].replace([1310, 30], [40]*2, inplace=True)\n",
    "df33"
   ]
  },
  {
   "cell_type": "code",
   "execution_count": null,
   "id": "2045e621-4bd2-40a8-8837-533be46fc095",
   "metadata": {},
   "outputs": [],
   "source": [
    "df33"
   ]
  },
  {
   "cell_type": "code",
   "execution_count": null,
   "id": "8972374e-2c24-4d7d-bd3d-96103f1fa023",
   "metadata": {},
   "outputs": [],
   "source": [
    "list(df33[df33['B'] <= 140]['B'])"
   ]
  },
  {
   "cell_type": "code",
   "execution_count": null,
   "id": "f8b00d9d-4ad7-452f-926f-949bb0f634dd",
   "metadata": {},
   "outputs": [],
   "source": [
    "lst_rep = list(df33[df33['B'] <= 140]['B'])\n",
    "df33['B'].replace(lst_rep, [40]*len(lst_rep), inplace=True)\n",
    "df33"
   ]
  },
  {
   "cell_type": "code",
   "execution_count": null,
   "id": "137deccf-9228-43e4-b928-d76435eff845",
   "metadata": {},
   "outputs": [],
   "source": [
    "l1 =[1, 2, 3]\n",
    "l2 = [10, 20, 30]\n",
    "dic_l = dict(zip(l1, l2))\n",
    "dic_l"
   ]
  },
  {
   "cell_type": "code",
   "execution_count": null,
   "id": "caa01511-655f-4e2e-aaa2-f0bbc04fc613",
   "metadata": {
    "jp-MarkdownHeadingCollapsed": true,
    "tags": []
   },
   "outputs": [],
   "source": [
    "df44 = pd.DataFrame([l1, l2], index=['A', 'B']).T\n",
    "df44"
   ]
  },
  {
   "cell_type": "code",
   "execution_count": null,
   "id": "f210f2ba-1764-40ba-bfdb-490bf0b57a42",
   "metadata": {},
   "outputs": [],
   "source": [
    "df55 = pd.Series(dic_l)\n",
    "df55"
   ]
  },
  {
   "cell_type": "code",
   "execution_count": null,
   "id": "2aa08bd1-820d-4e1f-801b-7ce1d76ae332",
   "metadata": {},
   "outputs": [],
   "source": [
    "np.round(2.3458465346, 3)"
   ]
  },
  {
   "cell_type": "code",
   "execution_count": null,
   "id": "95370459-0da3-4d29-958d-6d44ab8aab96",
   "metadata": {},
   "outputs": [],
   "source": [
    "np.around(2.3458465346, 3)"
   ]
  },
  {
   "cell_type": "code",
   "execution_count": null,
   "id": "cf9aac30-a93f-4193-ac34-e5035cf9fe29",
   "metadata": {},
   "outputs": [],
   "source": [
    "round(2.3458465346, 3)"
   ]
  },
  {
   "cell_type": "code",
   "execution_count": null,
   "id": "6a260930-a772-4c43-986f-44c3a83f7849",
   "metadata": {},
   "outputs": [],
   "source": [
    "print(datetime.now())"
   ]
  },
  {
   "cell_type": "code",
   "execution_count": null,
   "id": "ff961c12-39a4-4129-bca5-3dfb36c7b896",
   "metadata": {},
   "outputs": [],
   "source": [
    "{np.nan}"
   ]
  },
  {
   "cell_type": "code",
   "execution_count": null,
   "id": "53c5b302-047d-4377-9e7e-f66d80651370",
   "metadata": {},
   "outputs": [],
   "source": [
    "x = np.zeros((0,5), int)\n",
    "x[0]"
   ]
  },
  {
   "cell_type": "code",
   "execution_count": null,
   "id": "8040fcae-94e4-45b9-ab3b-d650981ec722",
   "metadata": {},
   "outputs": [],
   "source": [
    "raw_data = {'tr_ON' : ['raw_data\\\\Zew ch ON _ 2018-12-18',\n",
    "                            'raw_data\\\\Zew ch ON _ 2018-12-18_eco',\n",
    "                          [4.86, 4.88, 4.55, 4.48, 4.2, 4.03, 3.83, 3.45, 3.17, 3.04], # fuel_means=[]\n",
    "                          'load'],                                                     # charac_type ='load'\n",
    "                 'tr_RME' : ['raw_data\\\\RME zew _ 2018-12-20',\n",
    "                            'raw_data\\\\RME zew _ 2018-12-20_eco', \n",
    "                            [5.23, 5.12, 4.76, 4.6, 4.46, 4.19, 4, 3.6, 3.4, 3.17], \n",
    "                            'load']\n",
    "                }\n"
   ]
  },
  {
   "cell_type": "code",
   "execution_count": null,
   "id": "716383d0-9818-4c32-bc03-22313dfec1c8",
   "metadata": {},
   "outputs": [],
   "source": [
    "raw_data.values()"
   ]
  },
  {
   "cell_type": "code",
   "execution_count": null,
   "id": "c25b274a-f8ae-4cf6-a0ac-5666ec8a6948",
   "metadata": {},
   "outputs": [],
   "source": [
    "df = pd.read_excel(raw_data.values[0])\n",
    "df"
   ]
  },
  {
   "cell_type": "code",
   "execution_count": null,
   "id": "afdf32d6-0c49-4400-adc4-f3a615603174",
   "metadata": {},
   "outputs": [],
   "source": [
    "for key, val in raw_data.items():\n",
    "    print(key, '---', val[0], '---', val[1], end='\\n\\n')\n",
    "    df = pd.read_excel(val[0])\n",
    "    #df"
   ]
  },
  {
   "cell_type": "code",
   "execution_count": null,
   "id": "f0a00410-8765-4a01-9881-54cb5d2834e5",
   "metadata": {},
   "outputs": [],
   "source": [
    "dic_new = {}\n",
    "dic_new.append"
   ]
  },
  {
   "cell_type": "code",
   "execution_count": 80,
   "id": "8664fc49-9ec2-4d23-8d16-29a438cae6c8",
   "metadata": {},
   "outputs": [],
   "source": [
    "import numpy as np\n",
    "import matplotlib.pyplot as plt\n",
    "from sklearn.tree import DecisionTreeRegressor\n",
    "\n",
    "# Create a random dataset\n",
    "rng = np.random.RandomState(1)\n",
    "X = np.sort(200 * rng.rand(100, 1) - 100, axis=0)\n",
    "y = np.array([np.pi * np.sin(X).ravel(), np.pi * np.cos(X).ravel()]).T"
   ]
  },
  {
   "cell_type": "code",
   "execution_count": null,
   "id": "54088ced-b527-4abc-8727-e49c8199fe2f",
   "metadata": {},
   "outputs": [],
   "source": []
  },
  {
   "cell_type": "code",
   "execution_count": 83,
   "id": "83c78023-9b41-4231-a5e7-829a3697e593",
   "metadata": {},
   "outputs": [],
   "source": [
    "a = f'fdfgkf--{2+3}--gfds'"
   ]
  },
  {
   "cell_type": "code",
   "execution_count": 84,
   "id": "d4b5aade-b921-48a3-8a5c-76e8e541b404",
   "metadata": {},
   "outputs": [
    {
     "data": {
      "text/plain": [
       "'fdfgkf--5--gfds'"
      ]
     },
     "execution_count": 84,
     "metadata": {},
     "output_type": "execute_result"
    }
   ],
   "source": [
    "a"
   ]
  },
  {
   "cell_type": "code",
   "execution_count": 103,
   "id": "bd5e68f4-049e-4985-9676-84da41e7c532",
   "metadata": {},
   "outputs": [
    {
     "name": "stdout",
     "output_type": "stream",
     "text": [
      "i=0, j=0\n",
      "i=0, j=1\n",
      "i=0, j=2\n",
      "i=1, j=0\n",
      "i=1, j=1\n",
      "i=1, j=2\n",
      "i=2, j=0\n",
      "i=2, j=1\n",
      "i=2, j=2\n"
     ]
    }
   ],
   "source": [
    "for i in range(9):\n",
    "    print(f'i={i//3}, j={i%3}')"
   ]
  },
  {
   "cell_type": "code",
   "execution_count": 101,
   "id": "d5793da7-92ed-414b-b206-049d71644f8a",
   "metadata": {},
   "outputs": [
    {
     "data": {
      "text/plain": [
       "1"
      ]
     },
     "execution_count": 101,
     "metadata": {},
     "output_type": "execute_result"
    }
   ],
   "source": [
    "4%3"
   ]
  },
  {
   "cell_type": "code",
   "execution_count": null,
   "id": "0ced4e2e-a1e7-420f-801b-ffee59bacfad",
   "metadata": {},
   "outputs": [],
   "source": []
  }
 ],
 "metadata": {
  "kernelspec": {
   "display_name": "Python 3 (ipykernel)",
   "language": "python",
   "name": "python3"
  },
  "language_info": {
   "codemirror_mode": {
    "name": "ipython",
    "version": 3
   },
   "file_extension": ".py",
   "mimetype": "text/x-python",
   "name": "python",
   "nbconvert_exporter": "python",
   "pygments_lexer": "ipython3",
   "version": "3.9.7"
  }
 },
 "nbformat": 4,
 "nbformat_minor": 5
}
